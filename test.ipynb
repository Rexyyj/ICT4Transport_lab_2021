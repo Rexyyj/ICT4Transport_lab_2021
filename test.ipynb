{
 "cells": [
  {
   "cell_type": "code",
   "execution_count": 1,
   "metadata": {},
   "outputs": [],
   "source": [
    "import pymongo as pm\n",
    "from pprint import pprint"
   ]
  },
  {
   "cell_type": "code",
   "execution_count": 2,
   "metadata": {},
   "outputs": [
    {
     "data": {
      "text/plain": [
       "True"
      ]
     },
     "execution_count": 2,
     "metadata": {},
     "output_type": "execute_result"
    }
   ],
   "source": [
    "client = pm.MongoClient('bigdatadb.polito.it',\n",
    "                        ssl=True,\n",
    "                        authSource = 'carsharing',\n",
    "                        tlsAllowInvalidCertificates=True)\n",
    "db = client['carsharing']\n",
    "db.authenticate('ictts', 'Ictts16!')"
   ]
  },
  {
   "cell_type": "markdown",
   "metadata": {},
   "source": []
  },
  {
   "cell_type": "code",
   "execution_count": 4,
   "metadata": {},
   "outputs": [
    {
     "data": {
      "text/plain": [
       "{'_id': ObjectId('5900e8bc2ad8531539ed0847'),\n",
       " 'init_fuel': 45,\n",
       " 'city': 'Vancouver',\n",
       " 'walking': {'duration': -1, 'distance': -1},\n",
       " 'vendor': 'car2go',\n",
       " 'driving': {'duration': -1, 'distance': -1},\n",
       " 'final_time': 1481650748,\n",
       " 'plate': '644XNS',\n",
       " 'engineType': 'CE',\n",
       " 'init_time': 1481650703,\n",
       " 'vin': 'WMEEJ3BA8EK762841',\n",
       " 'smartPhoneRequired': False,\n",
       " 'interior': 'GOOD',\n",
       " 'final_fuel': 45,\n",
       " 'exterior': 'GOOD',\n",
       " 'init_date': datetime.datetime(2016, 12, 13, 9, 38, 23),\n",
       " 'final_date': datetime.datetime(2016, 12, 13, 9, 39, 8),\n",
       " 'init_address': '1694 Duranleau,surface lot next t/Bridges.fits3',\n",
       " 'final_address': '1694 Duranleau,surface lot next t/Bridges.fits3',\n",
       " 'origin_destination': {'type': 'LineString',\n",
       "  'coordinates': [[-123.13606, 49.27269], [-123.13606, 49.27269]]},\n",
       " 'public_transport': {'duration': -1,\n",
       "  'distance': -1,\n",
       "  'arrival_date': -1,\n",
       "  'arrival_time': -1}}"
      ]
     },
     "execution_count": 4,
     "metadata": {},
     "output_type": "execute_result"
    }
   ],
   "source": [
    "Booking_collection =db.get_collection(\"PermanentBookings\")\n",
    "Booking_collection.find_one({})"
   ]
  },
  {
   "cell_type": "code",
   "execution_count": 11,
   "metadata": {},
   "outputs": [
    {
     "name": "stdout",
     "output_type": "stream",
     "text": [
      "873240\n"
     ]
    }
   ],
   "source": [
    "#pprint(Booking_collection.count_documents({\"city\":\"Torino\"}))\n",
    "#pprint(Booking_collection.find({})).distinct(\"city\")"
   ]
  },
  {
   "cell_type": "code",
   "execution_count": 5,
   "metadata": {},
   "outputs": [
    {
     "name": "stdout",
     "output_type": "stream",
     "text": [
      "['Vancouver', 'Torino', 'Milano']\n"
     ]
    }
   ],
   "source": [
    "pprint(Booking_collection.find(\n",
    "    {\n",
    "        \"interior\":\"GOOD\",\n",
    "        \"init_fuel\":45,\n",
    "        \"$or\":[{\"city\":\"Torino\"},{\"city\":\"Vancouver\"},{\"city\":\"Milano\"}]\n",
    "    }\n",
    ").distinct(\"city\"))\n",
    "# for res in reslut:\n",
    "#     print(res[\"city\"])"
   ]
  },
  {
   "cell_type": "code",
   "execution_count": 41,
   "metadata": {},
   "outputs": [
    {
     "name": "stdout",
     "output_type": "stream",
     "text": [
      "{'_id': ObjectId('5a376e182ad85324ef467d7d'), 'init_fuel': 3, 'city': 'Torino'}\n",
      "{'_id': ObjectId('5a181e532ad8532cf017505a'), 'init_fuel': 6, 'city': 'Torino'}\n",
      "{'_id': ObjectId('5900e99a2ad8531539f2aa52'), 'init_fuel': 9, 'city': 'Torino'}\n",
      "{'_id': ObjectId('5900eb6f2ad8531539fe8f01'), 'init_fuel': 9, 'city': 'Torino'}\n",
      "{'_id': ObjectId('5900eb772ad8531539fec188'), 'init_fuel': 9, 'city': 'Torino'}\n",
      "{'_id': ObjectId('5900eb962ad8531539ff89a6'), 'init_fuel': 9, 'city': 'Torino'}\n",
      "{'_id': ObjectId('5900ef3a2ad85315391722a5'), 'init_fuel': 9, 'city': 'Torino'}\n",
      "{'_id': ObjectId('5900ef9b2ad8531539199f25'), 'init_fuel': 9, 'city': 'Torino'}\n",
      "{'_id': ObjectId('5900f17d2ad853153925bfe1'), 'init_fuel': 9, 'city': 'Torino'}\n",
      "{'_id': ObjectId('5900f68d2ad8531539467142'), 'init_fuel': 9, 'city': 'Torino'}\n"
     ]
    }
   ],
   "source": [
    "test =Booking_collection.find(\n",
    "    {\"city\":\"Torino\"},\n",
    "    {\"_id\":1,\"city\":1,\"init_fuel\":1}\n",
    ").limit(10).sort(\"init_fuel\",1)\n",
    "\n",
    "try:\n",
    "    while test.next:\n",
    "        print(test.next())\n",
    "except:\n",
    "    pass"
   ]
  },
  {
   "cell_type": "code",
   "execution_count": null,
   "metadata": {},
   "outputs": [],
   "source": []
  },
  {
   "cell_type": "code",
   "execution_count": 44,
   "metadata": {},
   "outputs": [
    {
     "name": "stdout",
     "output_type": "stream",
     "text": [
      "3.0\n"
     ]
    }
   ],
   "source": [
    "import numpy as np\n",
    "\n",
    "a = np.array([1,2,3,4,6])\n",
    "\n",
    "print(np.percentile(a,50))"
   ]
  },
  {
   "cell_type": "code",
   "execution_count": null,
   "metadata": {},
   "outputs": [],
   "source": []
  }
 ],
 "metadata": {
  "interpreter": {
   "hash": "1baa965d5efe3ac65b79dfc60c0d706280b1da80fedb7760faf2759126c4f253"
  },
  "kernelspec": {
   "display_name": "Python 3.8.2 64-bit",
   "name": "python3"
  },
  "language_info": {
   "codemirror_mode": {
    "name": "ipython",
    "version": 3
   },
   "file_extension": ".py",
   "mimetype": "text/x-python",
   "name": "python",
   "nbconvert_exporter": "python",
   "pygments_lexer": "ipython3",
   "version": "3.8.2"
  },
  "orig_nbformat": 4
 },
 "nbformat": 4,
 "nbformat_minor": 2
}
