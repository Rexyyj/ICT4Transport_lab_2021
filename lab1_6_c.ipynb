{
 "cells": [
  {
   "cell_type": "code",
   "execution_count": 1,
   "metadata": {},
   "outputs": [],
   "source": [
    "import pymongo as pm\n",
    "from pprint import pprint\n",
    "from datetime import datetime\n",
    "from matplotlib import pyplot as plt\n",
    "import numpy as np\n",
    "from geopy.distance import geodesic "
   ]
  },
  {
   "cell_type": "code",
   "execution_count": 2,
   "metadata": {},
   "outputs": [],
   "source": [
    "client = pm.MongoClient('bigdatadb.polito.it',\n",
    "                        ssl=True,\n",
    "                        authSource = 'carsharing',\n",
    "                        tlsAllowInvalidCertificates=True)\n",
    "db = client['carsharing']\n",
    "db.authenticate('ictts', 'Ictts16!')\n",
    "\n",
    "permanentBookings = db['PermanentBookings']\n"
   ]
  },
  {
   "cell_type": "code",
   "execution_count": 3,
   "metadata": {},
   "outputs": [],
   "source": [
    "start = datetime.fromisoformat('2017-01-01')\n",
    "end = datetime.fromisoformat('2017-02-28')\n",
    "city = \"Vancouver\"\n",
    "geo_range = [[(49.350849,-123.310688),(49.350849,-123.014714)],[(49.175794,-123.310688),(49.175794,-123.014714)]]"
   ]
  },
  {
   "cell_type": "code",
   "execution_count": 4,
   "metadata": {},
   "outputs": [],
   "source": [
    "# select all parking in the time period\n",
    "pipeline_parking_in_period = [{\"$match\": {\"city\": city}},\n",
    "                        {\"$match\": {\"$and\": [{\"init_date\": {\"$gte\": start}}, {\"final_date\": {\"$lte\": end}}]}},\n",
    "                        {\"$project\": {\n",
    "                                    \"_id\": 1, \n",
    "                                    \"origin\":{\"$arrayElemAt\": [ \"$origin_destination.coordinates\", 0]},\n",
    "                                    \"destination\":{\"$arrayElemAt\": [ \"$origin_destination.coordinates\", 1]},\n",
    "                                    \"duration\": {\"$divide\": [{\"$subtract\": [\"$final_time\", \"$init_time\"]}, 60]},\n",
    "                                    \"moved\": {\"$ne\": [{\"$arrayElemAt\": [ \"$origin_destination.coordinates\", 0]},\n",
    "                                                        {\"$arrayElemAt\": [ \"$origin_destination.coordinates\", 1]}]},\n",
    "                                    }\n",
    "                        },\n",
    "                        {\"$match\": {\"$and\": [   {\"duration\": {\"$gte\": 5}}, \n",
    "                                                {\"duration\": {\"$lte\": 3 * 60}},\n",
    "                                                {\"moved\": True},\n",
    "                                            ]\n",
    "                        }}\n",
    "                        ]\n",
    "\n",
    "\n",
    "#pprint(pipeline_parking_in_period)\n",
    "\n",
    "bookings = permanentBookings.aggregate(pipeline_parking_in_period)"
   ]
  },
  {
   "cell_type": "code",
   "execution_count": 5,
   "metadata": {},
   "outputs": [],
   "source": [
    "# bookings.next()"
   ]
  },
  {
   "cell_type": "code",
   "execution_count": 5,
   "metadata": {},
   "outputs": [
    {
     "name": "stdout",
     "output_type": "stream",
     "text": [
      "21504.410396889554\n",
      "19468.713197564055\n",
      "0.006883116279069792\n",
      "-0.0046067105263156135\n"
     ]
    }
   ],
   "source": [
    "longitude_range = geodesic(geo_range[0][0],geo_range[0][1]).m\n",
    "latitude_range = geodesic(geo_range[0][0],geo_range[1][0]).m\n",
    "print(longitude_range)\n",
    "print(latitude_range)\n",
    "\n",
    "longitude_blocks = int(longitude_range/500)\n",
    "latitude_blocks = int(latitude_range/500)\n",
    "longitude_step = (geo_range[0][1][1]-geo_range[0][0][1])/longitude_blocks\n",
    "latitude_step= (geo_range[1][0][0]-geo_range[0][0][0])/latitude_blocks\n",
    "print(longitude_step)\n",
    "print(latitude_step)\n",
    "\n",
    "\n",
    "block_map = np.zeros([latitude_blocks,longitude_blocks],dtype=int)\n",
    "counter = 1 \n",
    "for i in range(latitude_blocks):\n",
    "    for j in range(longitude_blocks):\n",
    "        block_map[i][j]=counter\n",
    "        counter +=1\n",
    "\n",
    "od_map ={}\n",
    "reference_point = geo_range[0][0]\n",
    "print_count =0\n",
    "for booking in bookings:\n",
    "    # if print_count>10:\n",
    "    #     break\n",
    "    # print_count+=1\n",
    "    try:\n",
    "        #find origin region\n",
    "        longitude_bias = int(geodesic(reference_point,(reference_point[0],booking[\"origin\"][0])).m/500)\n",
    "        latitude_bias = int(geodesic(reference_point,(booking[\"origin\"][1],reference_point[1])).m/500)\n",
    "        origin = block_map[latitude_bias][longitude_bias]\n",
    "        #print(origin)\n",
    "        #find destination region\n",
    "        longitude_bias = int(geodesic(reference_point,(reference_point[0],booking[\"destination\"][0])).m/500)\n",
    "        latitude_bias = int(geodesic(reference_point,(booking[\"destination\"][1],reference_point[1])).m/500)\n",
    "        destination = block_map[latitude_bias][longitude_bias]\n",
    "        #print(destination)\n",
    "        try:\n",
    "            temp = od_map[(origin,destination)]\n",
    "            temp +=1\n",
    "            od_map[(origin,destination)] = temp\n",
    "        except:\n",
    "            od_map[(origin,destination)] =1\n",
    "    except:\n",
    "        continue"
   ]
  },
  {
   "cell_type": "code",
   "execution_count": 72,
   "metadata": {},
   "outputs": [
    {
     "name": "stdout",
     "output_type": "stream",
     "text": [
      "59\n"
     ]
    }
   ],
   "source": [
    "# find the regions that with O-D router booking>100 \n",
    "filtered_key = []\n",
    "for key in od_map.keys():\n",
    "    if od_map[key]>=100:\n",
    "       filtered_key.append(key)\n",
    "print(len(filtered_key))"
   ]
  },
  {
   "cell_type": "code",
   "execution_count": 73,
   "metadata": {},
   "outputs": [
    {
     "name": "stdout",
     "output_type": "stream",
     "text": [
      "24\n",
      "24\n"
     ]
    }
   ],
   "source": [
    "origins = set()\n",
    "destinations = set()\n",
    "for key in filtered_key:\n",
    "    origins.add(key[0])\n",
    "    destinations.add(key[1])\n",
    "origins = list(origins)\n",
    "origins.sort()\n",
    "destinations = list(destinations)\n",
    "destinations.sort()\n",
    "print(len(origins))\n",
    "print(len(destinations))"
   ]
  },
  {
   "cell_type": "code",
   "execution_count": 74,
   "metadata": {},
   "outputs": [
    {
     "data": {
      "image/png": "[encoded data removed]",
      "text/plain": [
       "<Figure size 1080x576 with 2 Axes>"
      ]
     },
     "metadata": {
      "needs_background": "light"
     },
     "output_type": "display_data"
    }
   ],
   "source": [
    "density = np.zeros([len(origins),len(destinations)],dtype=int)\n",
    "\n",
    "for i in range(len(origins)):\n",
    "    for j in range(len(destinations)):\n",
    "        try:\n",
    "            density[i][j] = od_map[(origins[i],destinations[j])]\n",
    "        except:\n",
    "            pass\n",
    "\n",
    "plt.rcParams[\"figure.figsize\"] = [15.00, 8.0]\n",
    "plt.rcParams[\"figure.autolayout\"] = True\n",
    "im = plt.imshow(density, cmap=\"copper_r\")\n",
    "plt.colorbar(im)\n",
    "\n",
    "temp_loc = 0\n",
    "x = []\n",
    "for elem in origins:\n",
    "    x.append(temp_loc)\n",
    "    temp_loc += 1\n",
    "plt.xticks(x,origins)\n",
    "\n",
    "temp_loc = 0\n",
    "y = []\n",
    "for elem in destinations:\n",
    "    y.append(temp_loc)\n",
    "    temp_loc += 1\n",
    "plt.yticks(y,destinations)\n",
    "plt.xlabel(\"Origin ID\")\n",
    "plt.ylabel(\"Destination ID\")\n",
    "\n",
    "plt.show()"
   ]
  }
 ],
 "metadata": {
  "interpreter": {
   "hash": "1baa965d5efe3ac65b79dfc60c0d706280b1da80fedb7760faf2759126c4f253"
  },
  "kernelspec": {
   "display_name": "Python 3.8.2 64-bit",
   "language": "python",
   "name": "python3"
  },
  "language_info": {
   "codemirror_mode": {
    "name": "ipython",
    "version": 3
   },
   "file_extension": ".py",
   "mimetype": "text/x-python",
   "name": "python",
   "nbconvert_exporter": "python",
   "pygments_lexer": "ipython3",
   "version": "3.8.2"
  },
  "orig_nbformat": 4
 },
 "nbformat": 4,
 "nbformat_minor": 2
}
