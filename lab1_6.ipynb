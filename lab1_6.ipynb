{
 "cells": [
  {
   "cell_type": "code",
   "execution_count": 1,
   "metadata": {},
   "outputs": [],
   "source": [
    "import pymongo as pm\n",
    "from pprint import pprint\n",
    "from datetime import datetime\n",
    "from matplotlib import pyplot as plt\n",
    "import numpy as np\n",
    "import pandas as pd\n",
    "\n",
    "client = pm.MongoClient('bigdatadb.polito.it',\n",
    "                        ssl=True,\n",
    "                        authSource = 'carsharing',\n",
    "                        tlsAllowInvalidCertificates=True)\n",
    "db = client['carsharing']\n",
    "db.authenticate('ictts', 'Ictts16!')\n",
    "\n",
    "permanentParkings = db['PermanentParkings']\n"
   ]
  },
  {
   "cell_type": "code",
   "execution_count": 2,
   "metadata": {},
   "outputs": [],
   "source": [
    "start = datetime.fromisoformat('2017-01-01')\n",
    "end = datetime.fromisoformat('2017-02-28')\n",
    "start_hour = '08' #8:00\n",
    "end_hour = '12' #12:00\n",
    "city = \"Vancouver\"\n"
   ]
  },
  {
   "cell_type": "code",
   "execution_count": 3,
   "metadata": {},
   "outputs": [],
   "source": [
    "# select all parking in the time period\n",
    "pipeline_parking_in_period = [{\"$match\": {\"city\": city}},\n",
    "                        {\"$match\": {\"$and\": [{\"init_date\": {\"$gte\": start}}, {\"final_date\": {\"$lte\": end}}]}},\n",
    "                        {\"$project\": {\n",
    "                                    \"_id\": 1, \n",
    "                                    \"longitude\":{\"$arrayElemAt\": [ \"$loc.coordinates\", 0]},\n",
    "                                    \"latitude\":{\"$arrayElemAt\": [ \"$loc.coordinates\", 1]},\n",
    "                                    \"duration\": {\"$divide\": [{\"$subtract\": [\"$final_time\", \"$init_time\"]}, 60]}, \n",
    "                                    \"start_hour\": {\"$dateToString\": { \"format\": \"%H\", \"date\": \"$init_date\" }},\n",
    "                                    \"end_hour\": {\"$dateToString\": { \"format\": \"%H\", \"date\": \"$final_date\" }},\n",
    "                                    }\n",
    "                        },\n",
    "                        {\"$match\": {\"$and\": [   {\"duration\": {\"$gte\": 5}}, \n",
    "                                                {\"duration\": {\"$lte\": 3 * 60}},\n",
    "                                            ],\n",
    "                                    \"$or\":  [   \n",
    "                                            {\"$and\":[{\"start_hour\":{\"$gte\":start_hour}},{\"start_hour\":{\"$lte\":end_hour}}]},\n",
    "                                            {\"$and\":[{\"start_hour\":{\"$lte\":start_hour}},{\"end_hour\":{\"$gte\":end_hour}}]}\n",
    "                                                ]}\n",
    "                        },\n",
    "                        {\"$group\": {\"_id\": {\"longitude\": \"$longitude\", \"latitude\": \"$latitude\"}, \n",
    "                                    \"number\":{\"$sum\":1}}\n",
    "                                },\n",
    "                        ]\n",
    "parking_in_period = permanentParkings.aggregate(pipeline_parking_in_period)"
   ]
  },
  {
   "cell_type": "code",
   "execution_count": 4,
   "metadata": {},
   "outputs": [],
   "source": [
    "# count = 0\n",
    "# try:\n",
    "#     while parking_in_period.alive:\n",
    "#         print(parking_in_period.next())\n",
    "#         count+=1\n",
    "#         if count>10:\n",
    "#             break\n",
    "# except:\n",
    "#     pass"
   ]
  },
  {
   "cell_type": "code",
   "execution_count": 5,
   "metadata": {},
   "outputs": [],
   "source": [
    "count = 0\n",
    "longitude=[]\n",
    "latitude =[]\n",
    "counting = []\n",
    "frame_id =[]\n",
    "for parking in parking_in_period:\n",
    "    frame_id.append(count)\n",
    "    longitude.append(parking[\"_id\"][\"longitude\"])\n",
    "    latitude.append(parking[\"_id\"][\"latitude\"])\n",
    "    counting.append(parking[\"number\"])\n",
    "    count+=1\n",
    "\n",
    "df = pd.DataFrame({\n",
    "    'id':frame_id,\n",
    "    'longitude':longitude,\n",
    "    'latitude':latitude,\n",
    "    'density':counting\n",
    "})\n",
    "df.to_csv(\"./van8_12.csv\",index=False)"
   ]
  },
  {
   "cell_type": "code",
   "execution_count": null,
   "metadata": {},
   "outputs": [],
   "source": []
  },
  {
   "cell_type": "code",
   "execution_count": null,
   "metadata": {},
   "outputs": [],
   "source": []
  },
  {
   "cell_type": "code",
   "execution_count": null,
   "metadata": {},
   "outputs": [],
   "source": []
  }
 ],
 "metadata": {
  "interpreter": {
   "hash": "1baa965d5efe3ac65b79dfc60c0d706280b1da80fedb7760faf2759126c4f253"
  },
  "kernelspec": {
   "display_name": "Python 3.8.2 64-bit",
   "language": "python",
   "name": "python3"
  },
  "language_info": {
   "codemirror_mode": {
    "name": "ipython",
    "version": 3
   },
   "file_extension": ".py",
   "mimetype": "text/x-python",
   "name": "python",
   "nbconvert_exporter": "python",
   "pygments_lexer": "ipython3",
   "version": "3.8.2"
  },
  "orig_nbformat": 4
 },
 "nbformat": 4,
 "nbformat_minor": 2
}
