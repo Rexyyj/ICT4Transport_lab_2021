{
 "cells": [
  {
   "cell_type": "code",
   "execution_count": 10,
   "metadata": {},
   "outputs": [],
   "source": [
    "import pymongo as pm\n",
    "from pprint import pprint\n",
    "from datetime import datetime\n",
    "from matplotlib import pyplot as plt\n",
    "import numpy as np\n",
    "import pandas as pd\n",
    "from geopy.distance import geodesic "
   ]
  },
  {
   "cell_type": "code",
   "execution_count": 11,
   "metadata": {},
   "outputs": [],
   "source": [
    "client = pm.MongoClient('bigdatadb.polito.it',\n",
    "                        ssl=True,\n",
    "                        authSource = 'carsharing',\n",
    "                        tlsAllowInvalidCertificates=True)\n",
    "db = client['carsharing']\n",
    "db.authenticate('ictts', 'Ictts16!')\n",
    "\n",
    "permanentParkings = db['PermanentParkings']\n"
   ]
  },
  {
   "cell_type": "code",
   "execution_count": 12,
   "metadata": {},
   "outputs": [],
   "source": [
    "start = datetime.fromisoformat('2017-01-01')\n",
    "end = datetime.fromisoformat('2017-02-28')\n",
    "start_hour = '08' #8:00\n",
    "end_hour = '19' #12:00\n",
    "city = \"Vancouver\"\n",
    "day_type = \"weekend\" ## weekday or weekend\n",
    "output_name = day_type+\"_\"+start_hour+\"_\"+end_hour\n",
    "\n",
    "geo_range = [[(49.350849,-123.310688),(49.350849,-123.014714)],[(49.175794,-123.310688),(49.175794,-123.014714)]]\n",
    "\n"
   ]
  },
  {
   "cell_type": "code",
   "execution_count": 13,
   "metadata": {},
   "outputs": [
    {
     "name": "stdout",
     "output_type": "stream",
     "text": [
      "[{'$match': {'city': 'Vancouver'}},\n",
      " {'$match': {'$and': [{'init_date': {'$gte': datetime.datetime(2017, 1, 1, 0, 0)}},\n",
      "                      {'final_date': {'$lte': datetime.datetime(2017, 2, 28, 0, 0)}}]}},\n",
      " {'$project': {'_id': 1,\n",
      "               'day_of_week': {'$dayOfWeek': '$init_date'},\n",
      "               'duration': {'$divide': [{'$subtract': ['$final_time',\n",
      "                                                       '$init_time']},\n",
      "                                        60]},\n",
      "               'end_hour': {'$dateToString': {'date': '$final_date',\n",
      "                                              'format': '%H'}},\n",
      "               'latitude': {'$arrayElemAt': ['$loc.coordinates', 1]},\n",
      "               'longitude': {'$arrayElemAt': ['$loc.coordinates', 0]},\n",
      "               'start_hour': {'$dateToString': {'date': '$init_date',\n",
      "                                                'format': '%H'}}}},\n",
      " {'$match': {'$and': [{'duration': {'$gte': 5}},\n",
      "                      {'duration': {'$lte': 180}},\n",
      "                      {'$or': [{'day_of_week': 1}, {'day_of_week': 7}]}],\n",
      "             '$or': [{'$and': [{'start_hour': {'$gte': '08'}},\n",
      "                               {'start_hour': {'$lte': '19'}}]},\n",
      "                     {'$and': [{'end_hour': {'$gte': '08'}},\n",
      "                               {'end_hour': {'$lte': '19'}}]}]}},\n",
      " {'$group': {'_id': {'latitude': '$latitude', 'longitude': '$longitude'},\n",
      "             'number': {'$sum': 1}}}]\n"
     ]
    }
   ],
   "source": [
    "# select all parking in the time period\n",
    "pipeline_parking_in_period = [{\"$match\": {\"city\": city}},\n",
    "                        {\"$match\": {\"$and\": [{\"init_date\": {\"$gte\": start}}, {\"final_date\": {\"$lte\": end}}]}},\n",
    "                        {\"$project\": {\n",
    "                                    \"_id\": 1, \n",
    "                                    \"longitude\":{\"$arrayElemAt\": [ \"$loc.coordinates\", 0]},\n",
    "                                    \"latitude\":{\"$arrayElemAt\": [ \"$loc.coordinates\", 1]},\n",
    "                                    \"duration\": {\"$divide\": [{\"$subtract\": [\"$final_time\", \"$init_time\"]}, 60]}, \n",
    "                                    \"day_of_week\": {\"$dayOfWeek\": \"$init_date\"},\n",
    "                                    \"start_hour\": {\"$dateToString\": { \"format\": \"%H\", \"date\": \"$init_date\" }},\n",
    "                                    \"end_hour\": {\"$dateToString\": { \"format\": \"%H\", \"date\": \"$final_date\" }},\n",
    "                                    }\n",
    "                        },\n",
    "                        {\"$match\": {\"$and\": [   {\"duration\": {\"$gte\": 5}}, \n",
    "                                                {\"duration\": {\"$lte\": 3 * 60}},\n",
    "                                            ],\n",
    "                                    \"$or\":  [  ]\n",
    "                                    }\n",
    "                        },\n",
    "                        {\"$group\": {\"_id\": {\"longitude\": \"$longitude\", \"latitude\": \"$latitude\"}, \n",
    "                                    \"number\":{\"$sum\":1}}\n",
    "                                },\n",
    "                        ]\n",
    "\n",
    "if day_type == \"weekday\":\n",
    "    pipeline_parking_in_period[3][\"$match\"][\"$and\"].append({\"day_of_week\":{\"$gte\":2}})\n",
    "    pipeline_parking_in_period[3][\"$match\"][\"$and\"].append({\"day_of_week\":{\"$lte\":6}})\n",
    "elif day_type == \"weekend\":\n",
    "    pipeline_parking_in_period[3][\"$match\"][\"$and\"].append({\"$or\":[{\"day_of_week\":1},{\"day_of_week\":7}]})\n",
    "\n",
    "if int(start_hour)>int(end_hour):\n",
    "    pipeline_parking_in_period[3][\"$match\"][\"$or\"].append({\"$and\":[{\"start_hour\":{\"$gte\":start_hour}},{\"start_hour\":{\"$lte\":'24'}}]})\n",
    "    pipeline_parking_in_period[3][\"$match\"][\"$or\"].append({\"$and\":[{\"start_hour\":{\"$gte\":'0'}},{\"start_hour\":{\"$lte\":end_hour}}]})\n",
    "    pipeline_parking_in_period[3][\"$match\"][\"$or\"].append({\"$and\":[{\"end_hour\":{\"$gte\":start_hour}},{\"end_hour\":{\"$lte\":'24'}}]})\n",
    "    pipeline_parking_in_period[3][\"$match\"][\"$or\"].append({\"$and\":[{\"end_hour\":{\"$gte\":'0'}},{\"end_hour\":{\"$lte\":end_hour}}]})\n",
    "else:\n",
    "    pipeline_parking_in_period[3][\"$match\"][\"$or\"].append({\"$and\":[{\"start_hour\":{\"$gte\":start_hour}},{\"start_hour\":{\"$lte\":end_hour}}]})\n",
    "    pipeline_parking_in_period[3][\"$match\"][\"$or\"].append({\"$and\":[{\"end_hour\":{\"$gte\":start_hour}},{\"end_hour\":{\"$lte\":end_hour}}]})\n",
    "\n",
    "\n",
    "\n",
    "\n",
    "pprint(pipeline_parking_in_period)\n",
    "\n",
    "parking_in_period = permanentParkings.aggregate(pipeline_parking_in_period)"
   ]
  },
  {
   "cell_type": "markdown",
   "metadata": {},
   "source": [
    "# Task A"
   ]
  },
  {
   "cell_type": "code",
   "execution_count": 14,
   "metadata": {},
   "outputs": [],
   "source": [
    "count = 0\n",
    "longitude=[]\n",
    "latitude =[]\n",
    "counting = []\n",
    "frame_id =[]\n",
    "for parking in parking_in_period:\n",
    "    frame_id.append(count)\n",
    "    longitude.append(parking[\"_id\"][\"longitude\"])\n",
    "    latitude.append(parking[\"_id\"][\"latitude\"])\n",
    "    counting.append(parking[\"number\"])\n",
    "    count+=1\n",
    "\n",
    "df = pd.DataFrame({\n",
    "    'id':frame_id,\n",
    "    'longitude':longitude,\n",
    "    'latitude':latitude,\n",
    "    'density':counting\n",
    "})\n",
    "df.to_csv(\"./\"+output_name+\".csv\",index=False)"
   ]
  },
  {
   "cell_type": "code",
   "execution_count": 15,
   "metadata": {},
   "outputs": [],
   "source": [
    "# count = 0\n",
    "# try:\n",
    "#     for elem in parking_in_period:\n",
    "#         #print(parking_in_period.next())\n",
    "#         count+=1\n",
    "#         # if count>10:\n",
    "#         #     break\n",
    "# except:\n",
    "#     pass\n",
    "# print(count)"
   ]
  },
  {
   "cell_type": "markdown",
   "metadata": {},
   "source": [
    "# Task B"
   ]
  },
  {
   "cell_type": "code",
   "execution_count": 16,
   "metadata": {},
   "outputs": [],
   "source": [
    "# recover the CommandCursor\n",
    "parking_in_period = permanentParkings.aggregate(pipeline_parking_in_period)"
   ]
  },
  {
   "cell_type": "code",
   "execution_count": 17,
   "metadata": {},
   "outputs": [
    {
     "name": "stdout",
     "output_type": "stream",
     "text": [
      "21504.410396889554\n",
      "19468.713197564055\n",
      "0.006883116279069792\n",
      "-0.0046067105263156135\n"
     ]
    }
   ],
   "source": [
    "longitude_range = geodesic(geo_range[0][0],geo_range[0][1]).m\n",
    "latitude_range = geodesic(geo_range[0][0],geo_range[1][0]).m\n",
    "print(longitude_range)\n",
    "print(latitude_range)\n",
    "\n",
    "longitude_blocks = int(longitude_range/500)\n",
    "latitude_blocks = int(latitude_range/500)\n",
    "longitude_step = (geo_range[0][1][1]-geo_range[0][0][1])/longitude_blocks\n",
    "latitude_step= (geo_range[1][0][0]-geo_range[0][0][0])/latitude_blocks\n",
    "print(longitude_step)\n",
    "print(latitude_step)\n",
    "\n",
    "\n",
    "block_map = np.zeros([latitude_blocks,longitude_blocks],dtype=int)\n",
    "\n",
    "reference_point = geo_range[0][0]\n",
    "for parking in parking_in_period:\n",
    "    try:\n",
    "        longitude_bias = int(geodesic(reference_point,(reference_point[0],parking[\"_id\"][\"longitude\"])).m/500)\n",
    "        latitude_bias = int(geodesic(reference_point,(parking[\"_id\"][\"latitude\"],reference_point[1])).m/500)\n",
    "        block_map[latitude_bias][longitude_bias]+=parking[\"number\"]\n",
    "    except:\n",
    "        continue"
   ]
  },
  {
   "cell_type": "code",
   "execution_count": null,
   "metadata": {},
   "outputs": [],
   "source": [
    "count = 0\n",
    "longitude=[]\n",
    "latitude =[]\n",
    "counting = []\n",
    "frame_id =[]\n",
    "origin_point = (geo_range[0][0][0]+0.5*latitude_step,geo_range[0][0][1]+0.5*longitude_step)\n",
    "for i in range(latitude_blocks):\n",
    "    for j in range(longitude_blocks):\n",
    "        if block_map[i][j]!=0:\n",
    "            latitude.append(origin_point[0]+i*latitude_step)\n",
    "            longitude.append(origin_point[1]+j*longitude_step)\n",
    "            counting.append(block_map[i][j])\n",
    "            frame_id.append(count)\n",
    "            count+=1\n",
    "\n",
    "\n",
    "df2 = pd.DataFrame({\n",
    "    'id':frame_id,\n",
    "    'longitude':longitude,\n",
    "    'latitude':latitude,\n",
    "    'density':counting\n",
    "})\n",
    "df2.to_csv(\"./\"+output_name+\"_block\"+\".csv\",index=False)  "
   ]
  },
  {
   "cell_type": "code",
   "execution_count": null,
   "metadata": {},
   "outputs": [],
   "source": []
  },
  {
   "cell_type": "code",
   "execution_count": null,
   "metadata": {},
   "outputs": [],
   "source": []
  },
  {
   "cell_type": "code",
   "execution_count": null,
   "metadata": {},
   "outputs": [],
   "source": []
  },
  {
   "cell_type": "code",
   "execution_count": null,
   "metadata": {},
   "outputs": [],
   "source": []
  }
 ],
 "metadata": {
  "interpreter": {
   "hash": "1baa965d5efe3ac65b79dfc60c0d706280b1da80fedb7760faf2759126c4f253"
  },
  "kernelspec": {
   "display_name": "Python 3.8.2 64-bit",
   "language": "python",
   "name": "python3"
  },
  "language_info": {
   "codemirror_mode": {
    "name": "ipython",
    "version": 3
   },
   "file_extension": ".py",
   "mimetype": "text/x-python",
   "name": "python",
   "nbconvert_exporter": "python",
   "pygments_lexer": "ipython3",
   "version": "3.8.2"
  },
  "orig_nbformat": 4
 },
 "nbformat": 4,
 "nbformat_minor": 2
}
